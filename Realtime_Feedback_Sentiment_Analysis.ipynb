{
  "nbformat": 4,
  "nbformat_minor": 0,
  "metadata": {
    "colab": {
      "name": "Realtime Feedback Sentiment Analysis",
      "provenance": [],
      "collapsed_sections": [],
      "authorship_tag": "ABX9TyMoAbK84NQ3uQ9tNUmaAVpA",
      "include_colab_link": true
    },
    "kernelspec": {
      "name": "python3",
      "display_name": "Python 3"
    },
    "language_info": {
      "name": "python"
    }
  },
  "cells": [
    {
      "cell_type": "markdown",
      "metadata": {
        "id": "view-in-github",
        "colab_type": "text"
      },
      "source": [
        "<a href=\"https://colab.research.google.com/github/ritvik-chebolu/Feedback-Sentiment-Analysis/blob/main/Realtime_Feedback_Sentiment_Analysis.ipynb\" target=\"_parent\"><img src=\"https://colab.research.google.com/assets/colab-badge.svg\" alt=\"Open In Colab\"/></a>"
      ]
    },
    {
      "cell_type": "code",
      "source": [
        "import nltk\n",
        "from nltk.sentiment.vader import SentimentIntensityAnalyzer\n",
        "nltk.download('vader_lexicon')"
      ],
      "metadata": {
        "colab": {
          "base_uri": "https://localhost:8080/"
        },
        "id": "Wo19exOiqQrq",
        "outputId": "002d76cf-dd0c-4897-d0b9-435ad56831a3"
      },
      "execution_count": null,
      "outputs": [
        {
          "output_type": "stream",
          "name": "stdout",
          "text": [
            "[nltk_data] Downloading package vader_lexicon to /root/nltk_data...\n"
          ]
        },
        {
          "output_type": "execute_result",
          "data": {
            "text/plain": [
              "True"
            ]
          },
          "metadata": {},
          "execution_count": 7
        }
      ]
    },
    {
      "cell_type": "code",
      "source": [
        "user_input = input(\"Please share your feedback: \")\n",
        "sia = SentimentIntensityAnalyzer()\n",
        "pol_score = sia.polarity_scores(user_input) # stores the polarity score of the input statement(s)\n",
        "\n",
        "#print(pol_score) # prints a dictonary with keys as positive, negative, neutral and compound levels of feedback classification\n",
        "\n",
        "if pol_score[\"neg\"] != 0:\n",
        "  print(\"Your feedback was negative ;(\")\n",
        "elif pol_score[\"pos\"] != 0:\n",
        "  print(\"Your feedback was positive :D\")\n",
        "elif pol_score[\"neu\"] != 0:\n",
        "  print(\"Your feedback was neutral :|\")\n",
        "elif pol_score[\"compound\"] != 0:\n",
        "  print(\"Your feedback was compound ^_^\")"
      ],
      "metadata": {
        "colab": {
          "base_uri": "https://localhost:8080/"
        },
        "id": "w9jpJQgoo_0C",
        "outputId": "88b12885-2873-429a-93dc-22313a6d6a88"
      },
      "execution_count": null,
      "outputs": [
        {
          "output_type": "stream",
          "name": "stdout",
          "text": [
            "Please share your feedback: Do not expect too much\n",
            "Your feedback was neutral :|\n"
          ]
        }
      ]
    }
  ]
}